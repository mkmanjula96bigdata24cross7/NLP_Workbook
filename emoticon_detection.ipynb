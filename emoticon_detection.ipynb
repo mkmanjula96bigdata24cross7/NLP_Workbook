{
 "cells": [
  {
   "cell_type": "code",
   "execution_count": 10,
   "metadata": {},
   "outputs": [],
   "source": [
    "import pandas as pd\n",
    "import emoji\n",
    "#data=pd.read_csv('emojidata.csv')"
   ]
  },
  {
   "cell_type": "code",
   "execution_count": 11,
   "metadata": {},
   "outputs": [],
   "source": [
    "em=[]\n",
    "em.append(emoji.emojize('Wow! Im really impressed that Ashley can speak 7 languages :smile:, whereas I only speak one :disappointed:', use_aliases=True))\n",
    "em.append(emoji.emojize('Smh! I feel lost:disappointed:',use_aliases=True))\n",
    "em.append(emoji.emojize('He is soo cute baby:smile: but now he is ill :disappointed: and I cant bear the tears of a sad child :disappointed_relieved:',use_aliases=True))\n",
    "em.append(emoji.emojize('Grandpa was very proud of me when I got a promotion at work:smile:. He took me out to dinner to celebrate :confused: but my brother didnt join us :disappointed: I hate him stupid!',use_aliases=True))\n",
    "em.append(emoji.emojize('We were depressed :disappointed: but we worked hard and hopeful for success :smile:',use_aliases=True))"
   ]
  },
  {
   "cell_type": "code",
   "execution_count": 14,
   "metadata": {},
   "outputs": [
    {
     "data": {
      "text/plain": [
       "['Wow! Im really impressed that Ashley can speak 7 languages 😄, whereas I only speak one 😞',\n",
       " 'Smh! I feel lost😞',\n",
       " 'He is soo cute baby😄 but now he is ill 😞 and I cant bear the tears of a sad child 😥',\n",
       " 'Grandpa was very proud of me when I got a promotion at work😄. He took me out to dinner to celebrate 😕 but my brother didnt join us 😞 I hate him stupid!',\n",
       " 'We were depressed 😞 but we worked hard and hopeful for success 😄']"
      ]
     },
     "execution_count": 14,
     "metadata": {},
     "output_type": "execute_result"
    }
   ],
   "source": [
    "em"
   ]
  },
  {
   "cell_type": "code",
   "execution_count": 16,
   "metadata": {},
   "outputs": [],
   "source": [
    "from nltk.tokenize import word_tokenize"
   ]
  },
  {
   "cell_type": "code",
   "execution_count": 21,
   "metadata": {},
   "outputs": [
    {
     "data": {
      "text/plain": [
       "[['Wow',\n",
       "  '!',\n",
       "  'Im',\n",
       "  'really',\n",
       "  'impressed',\n",
       "  'that',\n",
       "  'Ashley',\n",
       "  'can',\n",
       "  'speak',\n",
       "  '7',\n",
       "  'languages',\n",
       "  '😄',\n",
       "  ',',\n",
       "  'whereas',\n",
       "  'I',\n",
       "  'only',\n",
       "  'speak',\n",
       "  'one',\n",
       "  '😞'],\n",
       " ['Smh', '!', 'I', 'feel', 'lost😞'],\n",
       " ['He',\n",
       "  'is',\n",
       "  'soo',\n",
       "  'cute',\n",
       "  'baby😄',\n",
       "  'but',\n",
       "  'now',\n",
       "  'he',\n",
       "  'is',\n",
       "  'ill',\n",
       "  '😞',\n",
       "  'and',\n",
       "  'I',\n",
       "  'cant',\n",
       "  'bear',\n",
       "  'the',\n",
       "  'tears',\n",
       "  'of',\n",
       "  'a',\n",
       "  'sad',\n",
       "  'child',\n",
       "  '😥'],\n",
       " ['Grandpa',\n",
       "  'was',\n",
       "  'very',\n",
       "  'proud',\n",
       "  'of',\n",
       "  'me',\n",
       "  'when',\n",
       "  'I',\n",
       "  'got',\n",
       "  'a',\n",
       "  'promotion',\n",
       "  'at',\n",
       "  'work😄',\n",
       "  '.',\n",
       "  'He',\n",
       "  'took',\n",
       "  'me',\n",
       "  'out',\n",
       "  'to',\n",
       "  'dinner',\n",
       "  'to',\n",
       "  'celebrate',\n",
       "  '😕',\n",
       "  'but',\n",
       "  'my',\n",
       "  'brother',\n",
       "  'didnt',\n",
       "  'join',\n",
       "  'us',\n",
       "  '😞',\n",
       "  'I',\n",
       "  'hate',\n",
       "  'him',\n",
       "  'stupid',\n",
       "  '!'],\n",
       " ['We',\n",
       "  'were',\n",
       "  'depressed',\n",
       "  '😞',\n",
       "  'but',\n",
       "  'we',\n",
       "  'worked',\n",
       "  'hard',\n",
       "  'and',\n",
       "  'hopeful',\n",
       "  'for',\n",
       "  'success',\n",
       "  '😄']]"
      ]
     },
     "execution_count": 21,
     "metadata": {},
     "output_type": "execute_result"
    }
   ],
   "source": [
    "tokens=[]\n",
    "for i in range(len(em)):\n",
    "    tokens.append(word_tokenize(em[i]))\n",
    "tokens"
   ]
  },
  {
   "cell_type": "code",
   "execution_count": 24,
   "metadata": {},
   "outputs": [
    {
     "data": {
      "text/plain": [
       "[['!', '😄', '😞'],\n",
       " ['!', '😞'],\n",
       " ['😄', '😞', '😥'],\n",
       " ['😄', '.', '😕', '😞', '!'],\n",
       " ['😞', '😄']]"
      ]
     },
     "execution_count": 24,
     "metadata": {},
     "output_type": "execute_result"
    }
   ],
   "source": [
    "emoticons=[]\n",
    "import re\n",
    "for i in range(len(em)):\n",
    "    emoticons.append(re.findall(r'[^\\w\\s,]', em[i]))\n",
    "emoticons"
   ]
  },
  {
   "cell_type": "code",
   "execution_count": 35,
   "metadata": {},
   "outputs": [
    {
     "data": {
      "text/plain": [
       "True"
      ]
     },
     "execution_count": 35,
     "metadata": {},
     "output_type": "execute_result"
    }
   ],
   "source": [
    "re.findall('^[A-Z][^?!.]*[?.!]$', em[0]) is not None"
   ]
  },
  {
   "cell_type": "code",
   "execution_count": 46,
   "metadata": {},
   "outputs": [
    {
     "data": {
      "text/plain": [
       "[['Wow!'], ['Smh!'], [], [], []]"
      ]
     },
     "execution_count": 46,
     "metadata": {},
     "output_type": "execute_result"
    }
   ],
   "source": [
    "slang=[]\n",
    "pat = r'^[A-Z][^!.]*[?!]'\n",
    "#print(re.findall(pat, em[0]))\n",
    "for i in range(len(em)):\n",
    "    slang.append(re.findall(pat, em[i]))\n",
    "slang"
   ]
  },
  {
   "cell_type": "code",
   "execution_count": 79,
   "metadata": {},
   "outputs": [
    {
     "data": {
      "text/plain": [
       "'real'"
      ]
     },
     "execution_count": 79,
     "metadata": {},
     "output_type": "execute_result"
    }
   ],
   "source": [
    "from nltk.stem import WordNetLemmatizer\n",
    "from nltk.stem import PorterStemmer\n",
    "lemmatizer = WordNetLemmatizer()\n",
    "from nltk.stem import LancasterStemmer\n",
    "porter=PorterStemmer()\n",
    "lan=LancasterStemmer()\n",
    "lan.stem('really')"
   ]
  },
  {
   "cell_type": "code",
   "execution_count": 75,
   "metadata": {},
   "outputs": [
    {
     "data": {
      "text/plain": [
       "'impressed'"
      ]
     },
     "execution_count": 75,
     "metadata": {},
     "output_type": "execute_result"
    }
   ],
   "source": [
    "lemmatizer.lemmatize('impressed')"
   ]
  },
  {
   "cell_type": "code",
   "execution_count": 61,
   "metadata": {},
   "outputs": [
    {
     "data": {
      "text/plain": [
       "'impress'"
      ]
     },
     "execution_count": 61,
     "metadata": {},
     "output_type": "execute_result"
    }
   ],
   "source": [
    "porter.stem(tokens[0][4])"
   ]
  },
  {
   "cell_type": "code",
   "execution_count": 94,
   "metadata": {},
   "outputs": [
    {
     "data": {
      "text/plain": [
       "['wow',\n",
       " '!',\n",
       " 'im',\n",
       " 'real',\n",
       " 'impress',\n",
       " 'that',\n",
       " 'ashley',\n",
       " 'can',\n",
       " 'speak',\n",
       " '7',\n",
       " 'langu',\n",
       " '😄',\n",
       " ',',\n",
       " 'wherea',\n",
       " 'i',\n",
       " 'on',\n",
       " 'speak',\n",
       " 'on',\n",
       " '😞',\n",
       " 'smh',\n",
       " '!',\n",
       " 'i',\n",
       " 'feel',\n",
       " 'lost😞',\n",
       " 'he',\n",
       " 'is',\n",
       " 'soo',\n",
       " 'cut',\n",
       " 'baby😄',\n",
       " 'but',\n",
       " 'now',\n",
       " 'he',\n",
       " 'is',\n",
       " 'il',\n",
       " '😞',\n",
       " 'and',\n",
       " 'i',\n",
       " 'cant',\n",
       " 'bear',\n",
       " 'the',\n",
       " 'tear',\n",
       " 'of',\n",
       " 'a',\n",
       " 'sad',\n",
       " 'child',\n",
       " '😥',\n",
       " 'grandp',\n",
       " 'was',\n",
       " 'very',\n",
       " 'proud',\n",
       " 'of',\n",
       " 'me',\n",
       " 'when',\n",
       " 'i',\n",
       " 'got',\n",
       " 'a',\n",
       " 'promot',\n",
       " 'at',\n",
       " 'work😄',\n",
       " '.',\n",
       " 'he',\n",
       " 'took',\n",
       " 'me',\n",
       " 'out',\n",
       " 'to',\n",
       " 'din',\n",
       " 'to',\n",
       " 'celebr',\n",
       " '😕',\n",
       " 'but',\n",
       " 'my',\n",
       " 'broth',\n",
       " 'didnt',\n",
       " 'join',\n",
       " 'us',\n",
       " '😞',\n",
       " 'i',\n",
       " 'hat',\n",
       " 'him',\n",
       " 'stupid',\n",
       " '!',\n",
       " 'we',\n",
       " 'wer',\n",
       " 'depress',\n",
       " '😞',\n",
       " 'but',\n",
       " 'we',\n",
       " 'work',\n",
       " 'hard',\n",
       " 'and',\n",
       " 'hop',\n",
       " 'for',\n",
       " 'success',\n",
       " '😄']"
      ]
     },
     "execution_count": 94,
     "metadata": {},
     "output_type": "execute_result"
    }
   ],
   "source": [
    "lemma=[]\n",
    "for i in range(len(tokens)):\n",
    "    for j in range(len(tokens[i])):\n",
    "        lemma.append(lan.stem(tokens[i][j]))\n",
    "lemma"
   ]
  },
  {
   "cell_type": "code",
   "execution_count": 98,
   "metadata": {},
   "outputs": [
    {
     "data": {
      "text/plain": [
       "'wow'"
      ]
     },
     "execution_count": 98,
     "metadata": {},
     "output_type": "execute_result"
    }
   ],
   "source": [
    "str(lemma[0])"
   ]
  },
  {
   "cell_type": "code",
   "execution_count": 103,
   "metadata": {},
   "outputs": [
    {
     "name": "stderr",
     "output_type": "stream",
     "text": [
      "[nltk_data] Downloading package brown to\n",
      "[nltk_data]     C:\\Users\\Manju\\AppData\\Roaming\\nltk_data...\n",
      "[nltk_data]   Package brown is already up-to-date!\n",
      "[nltk_data] Downloading package averaged_perceptron_tagger to\n",
      "[nltk_data]     C:\\Users\\Manju\\AppData\\Roaming\\nltk_data...\n",
      "[nltk_data]   Unzipping taggers\\averaged_perceptron_tagger.zip.\n"
     ]
    },
    {
     "data": {
      "text/plain": [
       "True"
      ]
     },
     "execution_count": 103,
     "metadata": {},
     "output_type": "execute_result"
    }
   ],
   "source": [
    "from textblob import TextBlob\n",
    "import nltk\n",
    "nltk.download('brown')\n",
    "nltk.download('averaged_perceptron_tagger')"
   ]
  },
  {
   "cell_type": "code",
   "execution_count": 138,
   "metadata": {},
   "outputs": [
    {
     "name": "stdout",
     "output_type": "stream",
     "text": [
      "This dog 😂\n",
      "Wow! Im really impressed that Ashley can speak 7 languages , whereas I only speak one \n"
     ]
    }
   ],
   "source": [
    "\n",
    "emoji_pattern = re.compile(\"[\"\n",
    "        u\"\\U0001F600-\\U0001F64F\"  # emoticons\n",
    "        u\"\\U0001F300-\\U0001F5FF\"  # symbols & pictographs\n",
    "        u\"\\U0001F680-\\U0001F6FF\"  # transport & map symbols\n",
    "        u\"\\U0001F1E0-\\U0001F1FF\"  # flags (iOS)\n",
    "                           \"]+\", flags=re.UNICODE)\n",
    "print(emoji_pattern.sub(r'', em[0])) # no emoji"
   ]
  },
  {
   "cell_type": "code",
   "execution_count": 143,
   "metadata": {},
   "outputs": [
    {
     "data": {
      "text/plain": [
       "['Wow! Im really impressed that Ashley can speak 7 languages , whereas I only speak one ',\n",
       " 'Smh! I feel lost',\n",
       " 'He is soo cute baby but now he is ill  and I cant bear the tears of a sad child ',\n",
       " 'Grandpa was very proud of me when I got a promotion at work. He took me out to dinner to celebrate  but my brother didnt join us  I hate him stupid!',\n",
       " 'We were depressed  but we worked hard and hopeful for success ']"
      ]
     },
     "execution_count": 143,
     "metadata": {},
     "output_type": "execute_result"
    }
   ],
   "source": [
    "remove_emoji=[]\n",
    "for i in range(len(em)):\n",
    "    remove_emoji.append(emoji_pattern.sub(r'', em[i]))\n",
    "remove_emoji"
   ]
  },
  {
   "cell_type": "code",
   "execution_count": 150,
   "metadata": {},
   "outputs": [
    {
     "data": {
      "text/plain": [
       "[('He', 'PRP'),\n",
       " ('is', 'VBZ'),\n",
       " ('soo', 'JJ'),\n",
       " ('cute', 'JJ'),\n",
       " ('baby', 'NN'),\n",
       " ('but', 'CC'),\n",
       " ('now', 'RB'),\n",
       " ('he', 'PRP'),\n",
       " ('is', 'VBZ'),\n",
       " ('ill', 'JJ'),\n",
       " ('and', 'CC'),\n",
       " ('I', 'PRP'),\n",
       " ('cant', 'VBP'),\n",
       " ('bear', 'IN'),\n",
       " ('the', 'DT'),\n",
       " ('tears', 'NNS'),\n",
       " ('of', 'IN'),\n",
       " ('a', 'DT'),\n",
       " ('sad', 'JJ'),\n",
       " ('child', 'NN')]"
      ]
     },
     "execution_count": 150,
     "metadata": {},
     "output_type": "execute_result"
    }
   ],
   "source": [
    "from textblob.taggers import NLTKTagger\n",
    "nltk_tagger = NLTKTagger()\n",
    "pos=[]\n",
    "for i in range(len(em)):\n",
    "    blob = TextBlob(remove_emoji[i], pos_tagger=nltk_tagger)\n",
    "    pos.append(blob.pos_tags)\n",
    "#pos[0][0][1]\n",
    "pos[2]"
   ]
  },
  {
   "cell_type": "code",
   "execution_count": 152,
   "metadata": {},
   "outputs": [
    {
     "data": {
      "text/plain": [
       "[['Wow! Im really impressed that Ashley can speak 7 languages , whereas I only speak one ',\n",
       "  'Wow'],\n",
       " ['Wow! Im really impressed that Ashley can speak 7 languages , whereas I only speak one ',\n",
       "  'impressed'],\n",
       " ['Smh! I feel lost', 'Smh'],\n",
       " ['He is soo cute baby but now he is ill  and I cant bear the tears of a sad child ',\n",
       "  'soo'],\n",
       " ['He is soo cute baby but now he is ill  and I cant bear the tears of a sad child ',\n",
       "  'cute'],\n",
       " ['He is soo cute baby but now he is ill  and I cant bear the tears of a sad child ',\n",
       "  'baby'],\n",
       " ['He is soo cute baby but now he is ill  and I cant bear the tears of a sad child ',\n",
       "  'ill'],\n",
       " ['He is soo cute baby but now he is ill  and I cant bear the tears of a sad child ',\n",
       "  'sad'],\n",
       " ['He is soo cute baby but now he is ill  and I cant bear the tears of a sad child ',\n",
       "  'child'],\n",
       " ['Grandpa was very proud of me when I got a promotion at work. He took me out to dinner to celebrate  but my brother didnt join us  I hate him stupid!',\n",
       "  'was'],\n",
       " ['Grandpa was very proud of me when I got a promotion at work. He took me out to dinner to celebrate  but my brother didnt join us  I hate him stupid!',\n",
       "  'proud'],\n",
       " ['Grandpa was very proud of me when I got a promotion at work. He took me out to dinner to celebrate  but my brother didnt join us  I hate him stupid!',\n",
       "  'got'],\n",
       " ['Grandpa was very proud of me when I got a promotion at work. He took me out to dinner to celebrate  but my brother didnt join us  I hate him stupid!',\n",
       "  'promotion'],\n",
       " ['Grandpa was very proud of me when I got a promotion at work. He took me out to dinner to celebrate  but my brother didnt join us  I hate him stupid!',\n",
       "  'work'],\n",
       " ['Grandpa was very proud of me when I got a promotion at work. He took me out to dinner to celebrate  but my brother didnt join us  I hate him stupid!',\n",
       "  'took'],\n",
       " ['Grandpa was very proud of me when I got a promotion at work. He took me out to dinner to celebrate  but my brother didnt join us  I hate him stupid!',\n",
       "  'brother'],\n",
       " ['Grandpa was very proud of me when I got a promotion at work. He took me out to dinner to celebrate  but my brother didnt join us  I hate him stupid!',\n",
       "  'didnt'],\n",
       " ['Grandpa was very proud of me when I got a promotion at work. He took me out to dinner to celebrate  but my brother didnt join us  I hate him stupid!',\n",
       "  'stupid'],\n",
       " ['We were depressed  but we worked hard and hopeful for success ', 'were'],\n",
       " ['We were depressed  but we worked hard and hopeful for success ', 'worked'],\n",
       " ['We were depressed  but we worked hard and hopeful for success ', 'hard'],\n",
       " ['We were depressed  but we worked hard and hopeful for success ', 'hopeful'],\n",
       " ['We were depressed  but we worked hard and hopeful for success ', 'success']]"
      ]
     },
     "execution_count": 152,
     "metadata": {},
     "output_type": "execute_result"
    }
   ],
   "source": [
    "keyword=[]\n",
    "for i in range(len(pos)):\n",
    "    for j in range(len(pos[i])):\n",
    "        #print(j)\n",
    "        if (pos[i][j][1]== 'NN' or pos[i][j][1]== 'JJ' or pos[i][j][1]== 'VBD'):\n",
    "            keyword.append([remove_emoji[i],pos[i][j][0]])\n",
    "keyword"
   ]
  },
  {
   "cell_type": "code",
   "execution_count": 156,
   "metadata": {},
   "outputs": [
    {
     "data": {
      "text/plain": [
       "Sentiment(polarity=0.5, subjectivity=1.0)"
      ]
     },
     "execution_count": 156,
     "metadata": {},
     "output_type": "execute_result"
    }
   ],
   "source": [
    "tb=TextBlob(\"cute\")\n",
    "tb.sentiment"
   ]
  },
  {
   "cell_type": "code",
   "execution_count": 159,
   "metadata": {},
   "outputs": [
    {
     "name": "stderr",
     "output_type": "stream",
     "text": [
      "[nltk_data] Downloading package vader_lexicon to\n",
      "[nltk_data]     C:\\Users\\Manju\\AppData\\Roaming\\nltk_data...\n"
     ]
    }
   ],
   "source": [
    "from nltk.sentiment.vader import SentimentIntensityAnalyzer\n",
    "import nltk\n",
    "nltk.download('vader_lexicon')\n",
    "  \n",
    "\n",
    "sid = SentimentIntensityAnalyzer()"
   ]
  },
  {
   "cell_type": "code",
   "execution_count": 165,
   "metadata": {},
   "outputs": [
    {
     "data": {
      "text/plain": [
       "{'neg': 0.564, 'neu': 0.436, 'pos': 0.0, 'compound': -0.3802}"
      ]
     },
     "execution_count": 165,
     "metadata": {},
     "output_type": "execute_result"
    }
   ],
   "source": [
    "scores = sid.polarity_scores(em[1])\n",
    "scores"
   ]
  },
  {
   "cell_type": "code",
   "execution_count": null,
   "metadata": {},
   "outputs": [],
   "source": []
  }
 ],
 "metadata": {
  "kernelspec": {
   "display_name": "Python 3",
   "language": "python",
   "name": "python3"
  },
  "language_info": {
   "codemirror_mode": {
    "name": "ipython",
    "version": 3
   },
   "file_extension": ".py",
   "mimetype": "text/x-python",
   "name": "python",
   "nbconvert_exporter": "python",
   "pygments_lexer": "ipython3",
   "version": "3.6.7"
  }
 },
 "nbformat": 4,
 "nbformat_minor": 2
}
